{
 "cells": [
  {
   "cell_type": "code",
   "execution_count": 13,
   "metadata": {},
   "outputs": [],
   "source": [
    "#pip install selenium"
   ]
  },
  {
   "cell_type": "code",
   "execution_count": 6,
   "metadata": {},
   "outputs": [],
   "source": [
    "from selenium import webdriver\n",
    "from selenium.webdriver.chrome.options import Options\n",
    "from selenium.webdriver.support.ui import WebDriverWait\n",
    "from selenium.webdriver.support import expected_conditions as EC\n",
    "from selenium.webdriver.common.by import By\n",
    "from selenium.common.exceptions import TimeoutException\n",
    "from bs4 import BeautifulSoup\n",
    "from selenium.webdriver.remote.webelement import WebElement\n",
    "import pandas as pd\n",
    "import time\n",
    "#import os"
   ]
  },
  {
   "cell_type": "code",
   "execution_count": 7,
   "metadata": {},
   "outputs": [],
   "source": [
    "chrome_options = Options()\n",
    "chrome_options.add_experimental_option(\"prefs\", {\n",
    "  \"download.default_directory\": r\"C:\\Users\\istyw\\Documents\\belajar- Isty\\Absen Otomatis\",\n",
    "  \"download.prompt_for_download\": False,\n",
    "  \"download.directory_upgrade\": True,\n",
    "  \"safebrowsing.enabled\": False\n",
    "})"
   ]
  },
  {
   "cell_type": "code",
   "execution_count": 8,
   "metadata": {},
   "outputs": [
    {
     "name": "stderr",
     "output_type": "stream",
     "text": [
      "C:\\Users\\istyw\\AppData\\Local\\Temp/ipykernel_5104/183880025.py:1: DeprecationWarning: executable_path has been deprecated, please pass in a Service object\n",
      "  driver = webdriver.Chrome(\"C:/Users/istyw/Documents/belajar- Isty/Absen Otomatis/chromedriver.exe\",options=chrome_options)\n"
     ]
    }
   ],
   "source": [
    "driver = webdriver.Chrome(\"C:/Users/istyw/Documents/belajar- Isty/Absen Otomatis/chromedriver.exe\",options=chrome_options)\n"
   ]
  },
  {
   "cell_type": "code",
   "execution_count": 9,
   "metadata": {},
   "outputs": [],
   "source": [
    "driver.get('https://portal.djka.dephub.go.id/djka_intern/')\n",
    "\n"
   ]
  },
  {
   "cell_type": "code",
   "execution_count": 10,
   "metadata": {},
   "outputs": [],
   "source": [
    "#Webscraping Picture\n",
    "for i in range(1,1001): \n",
    "#To do: Make prediction to Captcha\n",
    "    a = driver.find_element(By.XPATH,\"/html/body/div[1]/div[2]/form/div[3]/img\");\n",
    "#Downloading image\n",
    "    with open('C:/Users/istyw/Documents/belajar- Isty/Absen Otomatis/Captcha/%s.png'%i, 'wb') as file:\n",
    "        file.write(a.screenshot_as_png);\n",
    "    driver.refresh()\n",
    "    ;\n",
    "    "
   ]
  },
  {
   "cell_type": "code",
   "execution_count": 26,
   "metadata": {},
   "outputs": [],
   "source": [
    "i=3"
   ]
  },
  {
   "cell_type": "code",
   "execution_count": 27,
   "metadata": {},
   "outputs": [],
   "source": [
    "a = driver.find_element(By.XPATH,\"/html/body/div[1]/div[2]/form/div[3]/img\");\n",
    "#Downloading image\n",
    "with open(\"C:/Users/istyw/Documents/belajar- Isty/Absen Otomatis/Captcha/%s.png\"%i, 'wb') as file:\n",
    "    file.write(a.screenshot_as_png);\n"
   ]
  },
  {
   "cell_type": "code",
   "execution_count": null,
   "metadata": {},
   "outputs": [],
   "source": []
  },
  {
   "cell_type": "code",
   "execution_count": null,
   "metadata": {},
   "outputs": [],
   "source": []
  }
 ],
 "metadata": {
  "kernelspec": {
   "display_name": "Python 3 (ipykernel)",
   "language": "python",
   "name": "python3"
  },
  "language_info": {
   "codemirror_mode": {
    "name": "ipython",
    "version": 3
   },
   "file_extension": ".py",
   "mimetype": "text/x-python",
   "name": "python",
   "nbconvert_exporter": "python",
   "pygments_lexer": "ipython3",
   "version": "3.9.7"
  }
 },
 "nbformat": 4,
 "nbformat_minor": 4
}
